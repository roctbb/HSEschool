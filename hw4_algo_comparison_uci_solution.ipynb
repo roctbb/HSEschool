{
 "cells": [
  {
   "cell_type": "markdown",
   "metadata": {},
   "source": [
    "<center>\n",
    "<img src=\"../../img/beeline_data_school_logo.png\">\n",
    "# Школа данных \"Билайн\"\n",
    "#### Интенсивный курс по изучению машинного обучения и анализа данных\n",
    "<img src=\"../../img/beeline_logo.jpg\" height=\"240\" width=\"240\">\n",
    "## Авторы материала: преподаватели Факультета Компьютерных Наук НИУ ВШЭ Кашницкий Юрий, магистрант ВМК МГУ Колмаков Евгений\n",
    "</center>\n",
    "Материал распространяется на условиях лицензии <a href=\"https://opensource.org/licenses/MS-RL\">Ms-RL</a>. Можно использовать в любых целях, кроме коммерческих, но с обязательным упоминанием автора материала."
   ]
  },
  {
   "cell_type": "markdown",
   "metadata": {},
   "source": [
    "## Домашнее задание 4. Сравнение алгоритмов классификации на наборах данных репозитория UCI. Решение"
   ]
  },
  {
   "cell_type": "markdown",
   "metadata": {},
   "source": [
    "В рамках данного задания нужно выбрать один из наборов данных для задачи классификации из [репозитория UCI](http://archive.ics.uci.edu/ml/), выбрать несколько алгоритмов классификации и сравнить их на этом наборе данных."
   ]
  },
  {
   "cell_type": "code",
   "execution_count": 1,
   "metadata": {
    "collapsed": false
   },
   "outputs": [
    {
     "name": "stdout",
     "output_type": "stream",
     "text": [
      "Populating the interactive namespace from numpy and matplotlib\n"
     ]
    }
   ],
   "source": [
    "from __future__ import division, print_function\n",
    "# отключим всякие предупреждения Anaconda\n",
    "import warnings\n",
    "warnings.filterwarnings('ignore')\n",
    "%pylab inline\n",
    "import seaborn as sns\n",
    "figsize(12, 8)"
   ]
  },
  {
   "cell_type": "markdown",
   "metadata": {},
   "source": [
    "**Выберите любой набор данных для задачи классификации из [репозитория UCI](http://archive.ics.uci.edu/ml/) и загрузите его, используя функцию urlopen**"
   ]
  },
  {
   "cell_type": "code",
   "execution_count": 2,
   "metadata": {
    "collapsed": false
   },
   "outputs": [],
   "source": [
    "import sys\n",
    "if sys.version_info.major == 2:\n",
    "    from urllib import urlopen\n",
    "elif sys.version_info.major == 3:\n",
    "    from urllib.request import urlopen\n",
    "\n",
    "url = \"https://archive.ics.uci.edu/ml/machine-learning-databases/\" +\\\n",
    "        \"pima-indians-diabetes/pima-indians-diabetes.data\"\n",
    "raw_data = urlopen(url)\n",
    "data = np.loadtxt(raw_data, delimiter=\",\")"
   ]
  },
  {
   "cell_type": "markdown",
   "metadata": {},
   "source": [
    "**Выведите основные характеристики выборки и разделите выборку на обучение и контроль**"
   ]
  },
  {
   "cell_type": "code",
   "execution_count": 3,
   "metadata": {
    "collapsed": false
   },
   "outputs": [
    {
     "name": "stdout",
     "output_type": "stream",
     "text": [
      "Number of objects: 768 \n",
      "Number of features: 8 \n",
      "Number of classes: 2\n"
     ]
    }
   ],
   "source": [
    "from sklearn.cross_validation import train_test_split\n",
    "\n",
    "# Print basic data stats: \n",
    "# number of objects, number of features, number of classes \n",
    "print(\"Number of objects:\", data.shape[0], \n",
    "      \"\\nNumber of features:\", data.shape[1] - 1,\n",
    "     \"\\nNumber of classes:\", len(np.unique(data[:, 8]))) \n",
    "\n",
    "# Extract objects and labels from data\n",
    "X, y = data[:, :8], data[:, 8]\n",
    "X_train, X_test, y_train, y_test = \\\n",
    "    train_test_split(X, y, test_size=0.3, random_state=3)"
   ]
  },
  {
   "cell_type": "markdown",
   "metadata": {},
   "source": [
    "## 1. Классификаторы без настройки параметров "
   ]
  },
  {
   "cell_type": "markdown",
   "metadata": {},
   "source": [
    "**Выберите несколько (2-3) классификаторов из sklearn. Для удобства (чтобы не переписывать один и тот же код для каждого классификатора) можно создать список классификаторов (который, например, может состоять из пар вида (classifier_instance(), 'classifier name'))**"
   ]
  },
  {
   "cell_type": "code",
   "execution_count": 5,
   "metadata": {
    "collapsed": true
   },
   "outputs": [],
   "source": [
    "from sklearn.svm import SVC\n",
    "from sklearn.neighbors import KNeighborsClassifier\n",
    "from sklearn.linear_model import LogisticRegression\n",
    "\n",
    "classifiers = [(SVC(), 'SVC'), (KNeighborsClassifier(), 'kNN'),\n",
    "               (LogisticRegression(), 'Log-regression')]"
   ]
  },
  {
   "cell_type": "markdown",
   "metadata": {},
   "source": [
    "**С помощью 5-кратной кросс-валидации оцените качество каждого классификатора на обучающей выборке. Используйте функцию cross_val_score. Попробуйте использовать разные метрики качества (параметр scoring)**"
   ]
  },
  {
   "cell_type": "code",
   "execution_count": 6,
   "metadata": {
    "collapsed": false
   },
   "outputs": [
    {
     "name": "stdout",
     "output_type": "stream",
     "text": [
      "Best classifier: Log-regression \n",
      "Mean score: 0.778279681551\n"
     ]
    }
   ],
   "source": [
    "from sklearn.cross_validation import cross_val_score\n",
    "\n",
    "n_folds = 5\n",
    "scores = []\n",
    "\n",
    "# Do it for each classifier\n",
    "for clf, _ in classifiers:\n",
    "    clf_scores = cross_val_score(clf, X_train, y_train,\n",
    "                        scoring='accuracy', cv=n_folds)\n",
    "    scores.append(np.mean(clf_scores))\n",
    "\n",
    "# Print the name of classifier with\n",
    "# the best score and the score\n",
    "i_max = np.argmax(scores)\n",
    "print(\"Best classifier:\", classifiers[i_max][1],\n",
    "         \"\\nMean score:\", scores[i_max])"
   ]
  },
  {
   "cell_type": "markdown",
   "metadata": {},
   "source": [
    "**Обучите те же классификаторы без параметров на всей обучающей выборке и проверьте их качество на тестовой выборке. Является ли лучшим классификатор, который имеет наибольшее качество на кросс-валидации?**"
   ]
  },
  {
   "cell_type": "code",
   "execution_count": 7,
   "metadata": {
    "collapsed": false
   },
   "outputs": [
    {
     "name": "stdout",
     "output_type": "stream",
     "text": [
      "Best classifier: Log-regression \n",
      "Mean score: 0.744588744589\n"
     ]
    }
   ],
   "source": [
    "from sklearn.metrics import accuracy_score\n",
    "\n",
    "scores = []\n",
    "\n",
    "# Do it for each classifier\n",
    "for clf, _ in classifiers:\n",
    "    clf.fit(X_train, y_train)\n",
    "    y_pred = clf.predict(X_test)\n",
    "    scores.append(accuracy_score(y_test, y_pred))\n",
    "\n",
    "# Print the name of classifier with\n",
    "# the best score and the score\n",
    "i_max = np.argmax(scores)\n",
    "print(\"Best classifier:\", classifiers[i_max][1],\n",
    "         \"\\nMean score:\", scores[i_max])"
   ]
  },
  {
   "cell_type": "markdown",
   "metadata": {},
   "source": [
    "## 2. Классификаторы с настройкой параметров "
   ]
  },
  {
   "cell_type": "markdown",
   "metadata": {},
   "source": [
    "**Настройте параметры выбранных вами алгоритмов с помощью GridSearchCV и выберите лучший классификатор**"
   ]
  },
  {
   "cell_type": "code",
   "execution_count": 8,
   "metadata": {
    "collapsed": false
   },
   "outputs": [
    {
     "name": "stdout",
     "output_type": "stream",
     "text": [
      "Best classifier: Log-regression \n",
      "Best parameters: {'penalty': 'l1', 'C': 1.1721022975334805} \n",
      "Best score: 0.785847299814\n"
     ]
    }
   ],
   "source": [
    "from sklearn.grid_search import GridSearchCV\n",
    "\n",
    "classifiers_and_params = \\\n",
    "    [(SVC(), {'C': np.logspace(start=-3, stop=3, num=20), \n",
    "    'gamma': np.logspace(start=-4, stop=3, num=20)}, 'SVC'), \n",
    "    (KNeighborsClassifier(), {'n_neighbors': np.arange(3, 50, 3)}, 'kNN'),\n",
    "    (LogisticRegression(), {'penalty': ['l1', 'l2'], \n",
    "    'C': np.logspace(start=-2, stop=3, num=30)}, 'Log-regression')]\n",
    "    \n",
    "n_folds = 5\n",
    "scores = [] \n",
    "clfs = []\n",
    "\n",
    "# Do it for each classifier\n",
    "for clf, params, _ in classifiers_and_params:\n",
    "    clfs.append(GridSearchCV(clf, param_grid=params,\n",
    "        scoring='accuracy', cv=n_folds).fit(X_train, y_train))\n",
    "    scores.append(clfs[-1].best_score_)\n",
    "\n",
    "# Print the name of classifier with\n",
    "# the best score, the score and the params\n",
    "i_max = np.argmax(scores)\n",
    "print(\"Best classifier:\", classifiers_and_params[i_max][2],\n",
    "      \"\\nBest parameters:\", clfs[i_max].best_params_,\n",
    "         \"\\nBest score:\", scores[i_max])"
   ]
  },
  {
   "cell_type": "markdown",
   "metadata": {
    "collapsed": true
   },
   "source": [
    "**Для лучшего классификатора и набора параметров для него выберите более мелкую сетку (для того чтобы уточнить лучшие значения параметров). Для этого классификатора настройте параметры по обучающей выборке с помощью GridSearchCV. Постройте график зависимости среднего качества на кросс-валидации от значений параметров**"
   ]
  },
  {
   "cell_type": "code",
   "execution_count": 9,
   "metadata": {
    "collapsed": false
   },
   "outputs": [
    {
     "name": "stdout",
     "output_type": "stream",
     "text": [
      "Best classifier: Log-regression \n",
      "Best parameters: {'penalty': 'l1', 'C': 1.1899999999999999} \n",
      "Best score: 0.787709497207\n"
     ]
    },
    {
     "data": {
      "image/png": "[encoded data removed]",
      "text/plain": [
       "<matplotlib.figure.Figure at 0x109669190>"
      ]
     },
     "metadata": {},
     "output_type": "display_data"
    }
   ],
   "source": [
    "clf_params = {'penalty': ['l1'], 'C': \n",
    "    np.linspace(start=0.01, stop=2, num=200)}\n",
    "grid = GridSearchCV(LogisticRegression(), param_grid=clf_params, \n",
    "        scoring='accuracy', refit=True, cv=n_folds).fit(X_train, y_train)\n",
    "clf_best_score = grid.best_score_\n",
    "clf_best_params = grid.best_params_\n",
    "clf_best = grid.best_estimator_\n",
    "\n",
    "mean_validation_scores = \\\n",
    "    [grid.grid_scores_[i][1] for i in range(len(grid.grid_scores_))]\n",
    "plot(clf_params['C'], mean_validation_scores)\n",
    "\n",
    "# Print the best parameters and score\n",
    "print(\"Best classifier: Log-regression\",\n",
    "      \"\\nBest parameters:\", clf_best_params,\n",
    "         \"\\nBest score:\", clf_best_score)"
   ]
  },
  {
   "cell_type": "markdown",
   "metadata": {},
   "source": [
    "**Для полученной модели посчитайте качество на тестовой выборке и сравните его с качеством, полученным без настройки параметров**"
   ]
  },
  {
   "cell_type": "code",
   "execution_count": 10,
   "metadata": {
    "collapsed": false
   },
   "outputs": [
    {
     "name": "stdout",
     "output_type": "stream",
     "text": [
      "Score on the test set: 0.748917748918\n"
     ]
    }
   ],
   "source": [
    "y_pred = clf_best.predict(X_test)\n",
    "clf_score = accuracy_score(y_test, y_pred)\n",
    "\n",
    "# Print the score\n",
    "print(\"Score on the test set:\", clf_score)"
   ]
  },
  {
   "cell_type": "markdown",
   "metadata": {},
   "source": [
    "**Можно поварьировать параметр scoring и позапускать написанный код ещё раз. Изменится ли лучший классификатор?**"
   ]
  },
  {
   "cell_type": "markdown",
   "metadata": {},
   "source": [
    "## Ссылки:"
   ]
  },
  {
   "cell_type": "markdown",
   "metadata": {},
   "source": [
    " - <a href=\"http://archive.ics.uci.edu/ml/\">UCI Machine Learning Repository</a> \n",
    " - <a href=\"http://scikit-learn.org/stable/index.html\">Scikit-learn documentation</a>"
   ]
  }
 ],
 "metadata": {
  "kernelspec": {
   "display_name": "Python 3",
   "language": "python",
   "name": "python3"
  },
  "language_info": {
   "codemirror_mode": {
    "name": "ipython",
    "version": 3
   },
   "file_extension": ".py",
   "mimetype": "text/x-python",
   "name": "python",
   "nbconvert_exporter": "python",
   "pygments_lexer": "ipython3",
   "version": "3.4.3"
  },
  "name": "lesson4_practice.ipynb"
 },
 "nbformat": 4,
 "nbformat_minor": 0
}
